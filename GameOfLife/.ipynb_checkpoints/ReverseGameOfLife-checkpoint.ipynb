{
 "cells": [
  {
   "cell_type": "code",
   "execution_count": 1,
   "metadata": {
    "pycharm": {
     "name": "#%%\n"
    }
   },
   "outputs": [],
   "source": [
    "%matplotlib inline"
   ]
  },
  {
   "cell_type": "markdown",
   "metadata": {
    "pycharm": {
     "name": "#%% md\n"
    }
   },
   "source": [
    "\n",
    "# An animated image\n",
    "\n",
    "\n",
    "This example demonstrates how to animate an image.\n",
    "\n"
   ]
  },
  {
   "cell_type": "code",
   "execution_count": 2,
   "metadata": {
    "pycharm": {
     "name": "#%%\n"
    }
   },
   "outputs": [],
   "source": [
    "def step(state):\n",
    "    new_state = np.array([np.array([get_state(state, i, j) for j in range(len(state[0]))]) for i in range(len(state))])\n",
    "    return new_state\n",
    "\n",
    "def get_state(state, x, y):\n",
    "    live_neighbours = 0\n",
    "    for i in range(-1, 1):\n",
    "        for j in range(-1, 1):\n",
    "            if j != 0 or i != 0 or x + i >= 0 or x + i < len(state) or y + j >= 0 or y + j < len(state[0]):\n",
    "                if state[x+i][y+j] == 1:\n",
    "                    live_neighbours += 1\n",
    "    if (state[x][y] == 1 and 1 < live_neighbours < 4) or (state[x][y] == 0 and live_neighbours == 3):\n",
    "        return 1\n",
    "    return 0"
   ]
  },
  {
   "cell_type": "code",
   "execution_count": 3,
   "metadata": {
    "pycharm": {
     "name": "#%%\n"
    },
    "scrolled": true
   },
   "outputs": [
    {
     "data": {
      "image/png": "[encoded data removed]",
      "text/plain": [
       "<Figure size 432x288 with 1 Axes>"
      ]
     },
     "metadata": {
      "needs_background": "light"
     },
     "output_type": "display_data"
    }
   ],
   "source": [
    "import numpy as np\n",
    "import matplotlib.pyplot as plt\n",
    "import matplotlib.animation as animation\n",
    "import random\n",
    "\n",
    "fig = plt.figure()\n",
    "state = np.array([np.array([random.randint(0, 1) for j in range(5)]) for i in range(5)])\n",
    "im = plt.imshow(step(state), animated=True, cmap='gray')\n",
    "\n",
    "def init():\n",
    "    im.set_data(state)\n",
    "init()\n",
    "def updatefig(*args):\n",
    "    global state, im\n",
    "    # print(args)\n",
    "    state = step(state)\n",
    "    im.set_data(state)\n",
    "    return im,\n",
    "\n",
    "ani = animation.FuncAnimation(fig, updatefig, interval=500)\n",
    "# plt.show()"
   ]
  },
  {
   "cell_type": "code",
   "execution_count": 4,
   "metadata": {
    "pycharm": {
     "name": "#%%\n"
    }
   },
   "outputs": [],
   "source": [
    "plt.show()"
   ]
  },
  {
   "cell_type": "code",
   "execution_count": null,
   "metadata": {
    "pycharm": {
     "name": "#%%\n"
    }
   },
   "outputs": [],
   "source": []
  }
 ],
 "metadata": {
  "kernelspec": {
   "display_name": "Python 3 (ipykernel)",
   "language": "python",
   "name": "python3"
  },
  "language_info": {
   "codemirror_mode": {
    "name": "ipython",
    "version": 3
   },
   "file_extension": ".py",
   "mimetype": "text/x-python",
   "name": "python",
   "nbconvert_exporter": "python",
   "pygments_lexer": "ipython3",
   "version": "3.9.12"
  }
 },
 "nbformat": 4,
 "nbformat_minor": 1
}
